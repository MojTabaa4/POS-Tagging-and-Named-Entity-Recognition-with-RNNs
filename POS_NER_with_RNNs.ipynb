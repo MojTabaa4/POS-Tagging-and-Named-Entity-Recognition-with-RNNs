{
  "cells": [
    {
      "cell_type": "markdown",
      "metadata": {
        "id": "view-in-github",
        "colab_type": "text"
      },
      "source": [
        "<a href=\"https://colab.research.google.com/github/MojTabaa4/POS-Tagging-and-Named-Entity-Recognition-with-RNNs/blob/main/POS_NER_with_RNNs.ipynb\" target=\"_parent\"><img src=\"https://colab.research.google.com/assets/colab-badge.svg\" alt=\"Open In Colab\"/></a>"
      ]
    },
    {
      "cell_type": "code",
      "source": [
        "!pip install tensorflow"
      ],
      "metadata": {
        "id": "5mz_Q8AgXQvJ"
      },
      "execution_count": null,
      "outputs": []
    },
    {
      "cell_type": "code",
      "execution_count": 23,
      "metadata": {
        "collapsed": true,
        "id": "V5ik_Yl1Coht"
      },
      "outputs": [],
      "source": [
        "import os\n",
        "import random\n",
        "import time\n",
        "from collections import Counter, defaultdict\n",
        "from typing import List, Tuple\n",
        "\n",
        "import keras\n",
        "import matplotlib.pyplot as plt\n",
        "import nltk\n",
        "import numpy as np\n",
        "import pandas as pd\n",
        "import seaborn as sns\n",
        "import tensorflow as tf\n",
        "from gensim.models import KeyedVectors, Word2Vec\n",
        "from keras.layers import (GRU, LSTM, RNN, Bidirectional, Dense, Dropout,\n",
        "                          Embedding, Input, Masking, SimpleRNN,\n",
        "                          SpatialDropout1D, TimeDistributed)\n",
        "from keras.models import Model, Sequential\n",
        "from keras.preprocessing.text import Tokenizer\n",
        "from nltk.chunk import conlltags2tree, tree2conlltags\n",
        "from nltk.corpus import treebank\n",
        "from nltk.tokenize import word_tokenize\n",
        "from nltk.tree import Tree\n",
        "from sklearn.model_selection import train_test_split\n",
        "from tensorflow.keras import *\n",
        "from tensorflow.keras.preprocessing.sequence import pad_sequences\n",
        "from tensorflow.keras.utils import to_categorical\n"
      ]
    },
    {
      "cell_type": "code",
      "source": [
        "class PTBPosLoader:\n",
        "    \"\"\"\n",
        "    A class for loading and preprocessing the Penn Treebank Part of Speech dataset.\n",
        "    \"\"\"\n",
        "\n",
        "    def __init__(self, use_universal_tag_set: bool = True, test_size: float = 0.1, val_size: float = 0.1):\n",
        "        \"\"\"\n",
        "        Initializes the PTBPosLoader object.\n",
        "\n",
        "        Args:\n",
        "            use_universal_tag_set (bool): Whether to use the universal tag set. Default is True.\n",
        "            test_size (float): The proportion of the dataset to use for testing. Default is 0.1.\n",
        "            val_size (float): The proportion of the training set to use for validation. Default is 0.1.\n",
        "        \"\"\"\n",
        "        if use_universal_tag_set:\n",
        "            self.ptb = list(treebank.tagged_sents(tagset='universal'))\n",
        "        else:\n",
        "            self.ptb = list(treebank.tagged_sents())\n",
        "\n",
        "        self.test_size = test_size\n",
        "        self.val_size = val_size\n",
        "        self._split_train_val_test_sets()\n",
        "        self._extract_all_word_tag_pairs()\n",
        "\n",
        "    def _split_train_val_test_sets(self) -> None:\n",
        "        \"\"\"\n",
        "        Splits the dataset into training, validation, and testing sets.\n",
        "        \"\"\"\n",
        "        self.train_set, self.test_set = train_test_split(self.ptb,\n",
        "                                                         test_size=self.test_size,\n",
        "                                                         random_state=100)\n",
        "        self.train_set, self.val_set = train_test_split(self.train_set,\n",
        "                                                        test_size=self.val_size,\n",
        "                                                        random_state=100)\n",
        "\n",
        "    def _extract_all_word_tag_pairs(self) -> None:\n",
        "        \"\"\"\n",
        "        Extracts all word-tag pairs from the training, validation, and testing sets.\n",
        "        \"\"\"\n",
        "        self.train_word_tag_pairs = [word_tag for record in self.train_set for word_tag in record]\n",
        "        self.val_word_tag_pairs = [word_tag for record in self.val_set for word_tag in record]\n",
        "        self.test_word_tag_pairs = [word_tag for record in self.test_set for word_tag in record]\n",
        "\n",
        "    def get_vocab_and_tags_set(self) -> Tuple[set, List[str]]:\n",
        "        \"\"\"\n",
        "        Returns a tuple containing the vocabulary and tags set of the training set.\n",
        "\n",
        "        Returns:\n",
        "            A tuple containing the vocabulary (set) and tag set (list of strings) of the training set.\n",
        "        \"\"\"\n",
        "        vocab = set([word_tag[0] for word_tag in self.train_word_tag_pairs])\n",
        "        tags_set = sorted(list(set([pair[1] for pair in self.train_word_tag_pairs])))\n",
        "\n",
        "        return vocab, tags_set\n",
        "\n",
        "    def get_train_val_test_sets(self) -> Tuple[\n",
        "        List[List[Tuple[str, str]]], List[List[Tuple[str, str]]], List[List[Tuple[str, str]]]]:\n",
        "        \"\"\"\n",
        "        Returns a tuple containing the training, validation, and testing sets.\n",
        "\n",
        "        Returns:\n",
        "            A tuple containing the training, validation, and testing sets, each as a list of sentences, where each sentence\n",
        "            is a list of word-tag pairs (tuples).\n",
        "        \"\"\"\n",
        "        return self.train_set, self.val_set, self.test_set\n"
      ],
      "metadata": {
        "id": "PUDIJwNgVeon"
      },
      "execution_count": null,
      "outputs": []
    },
    {
      "cell_type": "code",
      "source": [
        "nltk.download('treebank')\n",
        "nltk.download('universal_tagset')"
      ],
      "metadata": {
        "colab": {
          "base_uri": "https://localhost:8080/"
        },
        "id": "TKFI-05Yaxpu",
        "outputId": "c24db94f-f7d4-41b9-e28b-c04e7e572f2d"
      },
      "execution_count": null,
      "outputs": [
        {
          "output_type": "stream",
          "name": "stderr",
          "text": [
            "[nltk_data] Downloading package treebank to /root/nltk_data...\n",
            "[nltk_data]   Package treebank is already up-to-date!\n",
            "[nltk_data] Downloading package universal_tagset to /root/nltk_data...\n",
            "[nltk_data]   Package universal_tagset is already up-to-date!\n"
          ]
        },
        {
          "output_type": "execute_result",
          "data": {
            "text/plain": [
              "True"
            ]
          },
          "metadata": {},
          "execution_count": 5
        }
      ]
    },
    {
      "cell_type": "code",
      "source": [
        "loader = PTBPosLoader()\n",
        "train, val, test = loader.get_train_val_test_sets()\n",
        "\n",
        "print(\"Number of examples in train and test sets combined:\", len(train) + len(test))\n",
        "print(\"Number of examples in train set:\", len(train))\n",
        "print(\"Number of examples in test set:\", len(test))\n",
        "\n",
        "print(train[1])\n",
        "print(test[1])\n",
        "\n",
        "vocab, tag_set = loader.get_vocab_and_tag_set()\n",
        "print(\"Vocabulary size:\", len(vocab))\n",
        "print(\"Number of unique POS tags:\", len(tag_set))\n",
        "\n",
        "tag_counts = {tag: 0 for tag in tag_set}\n",
        "\n",
        "train_word_tag_pairs = [word_tag for sentence in loader.train_set for word_tag in sentence]\n",
        "tag_counts = Counter(tag for word, tag in train_word_tag_pairs)\n",
        "\n",
        "sorted_tag_counts = {k: v for k, v in sorted(tag_counts.items(), key=lambda item: item[1], reverse=True)}\n",
        "\n",
        "plt.figure(figsize=(12, 8))\n",
        "sns.barplot(x=list(sorted_tag_counts.keys()), y=list(sorted_tag_counts.values()))\n",
        "plt.xlabel(\"POS Tag\")\n",
        "plt.ylabel(\"Count\")\n",
        "plt.title(\"Distribution of POS Tags (Sorted)\")\n",
        "plt.show()"
      ],
      "metadata": {
        "colab": {
          "base_uri": "https://localhost:8080/",
          "height": 859
        },
        "id": "kaklpfmIaaaa",
        "outputId": "f8a53326-e732-4413-c300-32cccb13e7bc"
      },
      "execution_count": null,
      "outputs": [
        {
          "output_type": "stream",
          "name": "stdout",
          "text": [
            "Number of examples in train and test sets combined: 3561\n",
            "Number of examples in train set: 3169\n",
            "Number of examples in test set: 392\n",
            "[('One', 'NUM'), ('clear', 'ADJ'), ('sign', 'NOUN'), ('of', 'ADP'), ('Japan', 'NOUN'), (\"'s\", 'PRT'), ('nervousness', 'NOUN'), ('came', 'VERB'), ('this', 'DET'), ('week', 'NOUN'), (',', '.'), ('when', 'ADV'), ('a', 'DET'), ('spokesman', 'NOUN'), ('for', 'ADP'), ('Japan', 'NOUN'), (\"'s\", 'PRT'), ('Foreign', 'NOUN'), ('Ministry', 'NOUN'), ('devoted', 'VERB'), ('nearly', 'ADV'), ('all', 'DET'), ('of', 'ADP'), ('a', 'DET'), ('regular', 'ADJ'), (',', '.'), ('half-hour', 'ADJ'), ('briefing', 'NOUN'), ('for', 'ADP'), ('foreign', 'ADJ'), ('journalists', 'NOUN'), ('to', 'PRT'), ('the', 'DET'), ('subject', 'NOUN'), ('of', 'ADP'), ('recent', 'ADJ'), ('Japanese', 'ADJ'), ('investments', 'NOUN'), ('in', 'ADP'), ('the', 'DET'), ('U.S.', 'NOUN'), ('*T*-1', 'X'), ('.', '.')]\n",
            "[('Buying', 'VERB'), ('for', 'ADP'), ('the', 'DET'), ('most', 'ADJ'), ('part', 'NOUN'), ('carried', 'VERB'), ('over', 'PRT'), ('from', 'ADP'), ('the', 'DET'), ('previous', 'ADJ'), ('session', 'NOUN'), (',', '.'), ('and', 'CONJ'), ('traders', 'NOUN'), ('apparently', 'ADV'), ('ignored', 'VERB'), ('reports', 'NOUN'), ('that', 'ADP'), ('a', 'DET'), ('Chilean', 'ADJ'), ('mine', 'ADJ'), ('strike', 'NOUN'), ('may', 'VERB'), ('have', 'VERB'), ('ended', 'VERB'), ('almost', 'ADV'), ('before', 'ADP'), ('it', 'PRON'), ('began', 'VERB'), (',', '.'), ('an', 'DET'), ('analyst', 'NOUN'), ('said', 'VERB'), ('0', 'X'), ('*T*-1', 'X'), ('.', '.')]\n",
            "Vocabulary size: 11133\n",
            "Number of unique POS tags: 12\n"
          ]
        },
        {
          "output_type": "display_data",
          "data": {
            "text/plain": [
              "<Figure size 1200x800 with 1 Axes>"
            ],
            "image/png": "[encoded data removed]"
          },
          "metadata": {}
        }
      ]
    },
    {
      "cell_type": "markdown",
      "source": [
        "# Implement Viterbi Algorithm"
      ],
      "metadata": {
        "id": "L9w-J-nGp5_3"
      }
    },
    {
      "cell_type": "code",
      "source": [
        "class POSTagger:\n",
        "    def __init__(self, dataset_loader: PTBPosLoader, smoothing_const: float = 0.001) -> None:\n",
        "        \"\"\"\n",
        "        Initialize the POSTagger.\n",
        "\n",
        "        Args:\n",
        "            dataset_loader: An instance of PTBPosLoader for loading the dataset.\n",
        "            smoothing_const: Smoothing constant for handling out-of-vocabulary words.\n",
        "        \"\"\"\n",
        "        self.dataset_loader = dataset_loader\n",
        "        self.smoothing_const = smoothing_const\n",
        "        self.emission_file_name = 'emission_ptb.csv'\n",
        "\n",
        "        self.train_set, self.val_set, self.test_set = self.dataset_loader.get_train_val_test_sets()\n",
        "        self.all_tags = [pair[1] for pair in self.dataset_loader.train_word_tag_pairs]\n",
        "\n",
        "        self.vocab, self.tags_set = self.dataset_loader.get_vocab_and_tags_set()\n",
        "\n",
        "        self.test_run_base: List[Tuple[str, str]] = [tup for sent in self.test_set for tup in sent]\n",
        "        self.test_tagged_words: List[str] = [tup[0] for sent in self.test_set for tup in sent]\n",
        "\n",
        "        self.tags_matrix: np.ndarray = None\n",
        "        self.trans_df: pd.DataFrame = None\n",
        "        self.emission_matrix: np.ndarray = None\n",
        "        self.emission_df: pd.DataFrame = None\n",
        "\n",
        "    def get_transition(self, curr_tag: str, prev_tag: str) -> float:\n",
        "        \"\"\"\n",
        "        Calculate the transition probability between two tags.\n",
        "\n",
        "        Args:\n",
        "            curr_tag: Current tag.\n",
        "            prev_tag: Previous tag.\n",
        "\n",
        "        Returns:\n",
        "            Transition probability from prev_tag to curr_tag.\n",
        "        \"\"\"\n",
        "        count_prev_tag = len([tag for tag in self.all_tags if tag == prev_tag])\n",
        "        count_prev_tag_curr_tag = sum(\n",
        "            1 for i in range(len(self.all_tags) - 1)\n",
        "            if self.all_tags[i + 1] == curr_tag and self.all_tags[i] == prev_tag\n",
        "        )\n",
        "\n",
        "        return count_prev_tag_curr_tag / count_prev_tag\n",
        "\n",
        "    def set_transition_matrix(self, print_transition_matrix: bool = False) -> None:\n",
        "        \"\"\"\n",
        "        Set the transition matrix based on the training set.\n",
        "\n",
        "        Args:\n",
        "            print_transition_matrix: Whether to print the transition matrix.\n",
        "        \"\"\"\n",
        "        self.tags_matrix = np.zeros((len(self.tags_set), len(self.tags_set)), dtype='float32')\n",
        "\n",
        "        for i, t1 in enumerate(list(self.tags_set)):\n",
        "            for j, t2 in enumerate(list(self.tags_set)):\n",
        "                self.tags_matrix[i, j] = self.get_transition(t2, t1)\n",
        "\n",
        "        self.trans_df = pd.DataFrame(self.tags_matrix, columns=list(self.tags_set), index=list(self.tags_set))\n",
        "\n",
        "        if print_transition_matrix:\n",
        "            print(self.trans_df)\n",
        "\n",
        "    def get_emission(self, word: str, tag: str) -> float:\n",
        "        \"\"\"\n",
        "        Calculate the emission probability of a word given a tag.\n",
        "\n",
        "        Args:\n",
        "            word: Word.\n",
        "            tag: Tag.\n",
        "\n",
        "        Returns:\n",
        "            Emission probability of the word given the tag.\n",
        "        \"\"\"\n",
        "        pairs_with_tag = [pair for pair in self.dataset_loader.train_word_tag_pairs if pair[1] == tag]\n",
        "        words_with_tag = [pair[0] for pair in pairs_with_tag if pair[0] == word[0]]\n",
        "\n",
        "        return len(words_with_tag) / len(pairs_with_tag)\n",
        "\n",
        "    def set_emission_matrix(self, print_emission_matrix: bool = False) -> None:\n",
        "        \"\"\"\n",
        "        Set the emission matrix based on the training or saved matrix.\n",
        "\n",
        "        Args:\n",
        "            print_emission_matrix: Whether to print the emission matrix.\n",
        "        \"\"\"\n",
        "        if os.path.exists(self.emission_file_name):\n",
        "            self.read_emission_csv()\n",
        "        else:\n",
        "            self.emission_matrix = np.zeros((len(self.dataset_loader.test_word_tag_pairs), len(self.tags_set)),\n",
        "                                            dtype='float32')\n",
        "\n",
        "            for i, w in enumerate(list(self.dataset_loader.test_word_tag_pairs)):\n",
        "                if i % 300 == 0:\n",
        "                    print(f\"round: {i}\")\n",
        "                for j, t2 in enumerate(list(self.tags_set)):\n",
        "                    self.emission_matrix[i, j] = self.get_emission(w, t2)\n",
        "\n",
        "            self.emission_df = pd.DataFrame(self.emission_matrix, columns=list(self.tags_set),\n",
        "                                            index=list(self.dataset_loader.test_word_tag_pairs))\n",
        "            self.save_emission_csv()\n",
        "\n",
        "        if print_emission_matrix:\n",
        "            print(self.emission_df)\n",
        "\n",
        "    def save_emission_csv(self) -> None:\n",
        "        \"\"\"Save the emission matrix to a CSV file.\"\"\"\n",
        "        self.emission_df.to_csv(self.emission_file_name, index=list(self.dataset_loader.test_word_tag_pairs))\n",
        "\n",
        "    def read_emission_csv(self) -> None:\n",
        "        \"\"\"Read the emission matrix from a CSV file.\"\"\"\n",
        "        self.emission_df = pd.read_csv(self.emission_file_name).set_index('Unnamed: 0')\n",
        "\n",
        "    def _viterbi(self) -> List[Tuple[str, str]]:\n",
        "        \"\"\"\n",
        "        Perform the Viterbi algorithm for tagging.\n",
        "        \n",
        "        Returns:\n",
        "            List of tuples containing word-tag pairs.\n",
        "        \"\"\"\n",
        "        viterbi = []\n",
        "        for key, word in enumerate(self.test_tagged_words):\n",
        "            max_prob = -1\n",
        "            best_tag = None\n",
        "\n",
        "            for tag in self.tags_set:\n",
        "                if key == 0:\n",
        "                    transition_p = self.trans_df.loc['.', tag]\n",
        "                else:\n",
        "                    last_state = viterbi[-1]\n",
        "                    transition_p = self.trans_df.loc[last_state, tag]\n",
        "\n",
        "                emission_p = self.emission_df.iat[key, self.tags_set.index(tag)]\n",
        "\n",
        "                prob = emission_p * transition_p\n",
        "\n",
        "                if prob >= max_prob:\n",
        "                    max_prob = prob\n",
        "                    best_tag = tag\n",
        "\n",
        "            viterbi.append(best_tag)\n",
        "\n",
        "        return list(zip(self.test_tagged_words, viterbi))\n",
        "\n",
        "    def smoothed_viterbi(self) -> List[Tuple[str, str]]:\n",
        "        \"\"\"\n",
        "        Perform the Viterbi algorithm with smoothing for tagging.\n",
        "\n",
        "        Returns:\n",
        "            List of tuples containing word-tag pairs.\n",
        "        \"\"\"\n",
        "        viterbi = []\n",
        "\n",
        "        for key, word in enumerate(self.test_tagged_words):\n",
        "            max_prob = -1\n",
        "            best_tag = None\n",
        "            for tag in self.tags_set:\n",
        "                if key == 0:\n",
        "                    transition_p = self.trans_df.loc['.', tag]\n",
        "                else:\n",
        "                    last_state = viterbi[-1]\n",
        "                    transition_p = self.trans_df.loc[last_state, tag]\n",
        "\n",
        "                if word in self.vocab:\n",
        "                    emission_p = self.emission_df.iat[key, self.tags_set.index(tag)]\n",
        "                else:\n",
        "                    emission_p = self.smoothing_const\n",
        "\n",
        "                prob = emission_p * transition_p\n",
        "\n",
        "                if prob >= max_prob:\n",
        "                    max_prob = prob\n",
        "                    best_tag = tag\n",
        "\n",
        "            viterbi.append(best_tag)\n",
        "\n",
        "        return list(zip(self.test_tagged_words, viterbi))\n",
        "\n",
        "    def apply_viterbi(self, smoothing: bool = True) -> List[Tuple[str, str]]:\n",
        "        \"\"\"\n",
        "        Apply the Viterbi algorithm for tagging.\n",
        "\n",
        "        Args:\n",
        "            smoothing: Whether to use smoothing during tagging.\n",
        "\n",
        "        Returns:\n",
        "            List of tuples containing word-tag pairs.\n",
        "        \"\"\"\n",
        "        self.set_transition_matrix()\n",
        "        self.set_emission_matrix()\n",
        "\n",
        "        if smoothing:\n",
        "            tagged_res = self.smoothed_viterbi()\n",
        "        else:\n",
        "            tagged_res = self._viterbi()\n",
        "\n",
        "        return tagged_res\n",
        "\n",
        "    def evaluate(self, tagged_res: List[Tuple[str, str]]) -> Tuple[float, List[Tuple[str, str]]]:\n",
        "        \"\"\"\n",
        "        Evaluate the accuracy of the tagging results.\n",
        "\n",
        "        Args:\n",
        "            tagged_res: List of tuples containing word-tag pairs.\n",
        "\n",
        "        Returns:\n",
        "            Tuple of accuracy and a list of wrong predictions.\n",
        "        \"\"\"\n",
        "        res = []\n",
        "        wrong_preds = []\n",
        "\n",
        "        for i, j in zip(tagged_res, self.test_run_base):\n",
        "            if i == j:\n",
        "                res.append(1)\n",
        "\n",
        "        for _, pair in enumerate(zip(tagged_res, self.test_run_base)):\n",
        "            if pair[0] != pair[1]:\n",
        "                wrong_preds.append(pair)\n",
        "\n",
        "        accuracy = len(res) / len(tagged_res)\n",
        "\n",
        "        return accuracy, wrong_preds\n"
      ],
      "metadata": {
        "id": "x4ZKH14JaPVd"
      },
      "execution_count": 26,
      "outputs": []
    },
    {
      "cell_type": "code",
      "source": [
        "ptb_loader = PTBPosLoader()\n",
        "pos_tagger = POSTagger(ptb_loader)\n",
        "\n",
        "viterbi_tag_res = pos_tagger.apply_viterbi()\n",
        "\n",
        "accuracy, wrong_preds = pos_tagger.evaluate(viterbi_tag_res)\n",
        "\n",
        "print(f\"accuracy = {accuracy}\")\n",
        "\n",
        "for i in range(10):\n",
        "    print(f\"word: {wrong_preds[i][0][0]} | predicted: {wrong_preds[i][0][1]} | expected: {wrong_preds[i][1][1]}\")\n"
      ],
      "metadata": {
        "id": "o16EaGYO6RcS",
        "outputId": "8fb8f658-b28e-4046-f5fd-aa0dc1d30412",
        "colab": {
          "base_uri": "https://localhost:8080/",
          "height": 432
        }
      },
      "execution_count": 27,
      "outputs": [
        {
          "metadata": {
            "tags": null
          },
          "name": "stdout",
          "output_type": "stream",
          "text": [
            "round: 0\n"
          ]
        },
        {
          "output_type": "error",
          "ename": "KeyboardInterrupt",
          "evalue": "ignored",
          "traceback": [
            "\u001b[0;31m---------------------------------------------------------------------------\u001b[0m",
            "\u001b[0;31mKeyboardInterrupt\u001b[0m                         Traceback (most recent call last)",
            "\u001b[0;32m<ipython-input-27-2b050db8ce2c>\u001b[0m in \u001b[0;36m<cell line: 4>\u001b[0;34m()\u001b[0m\n\u001b[1;32m      2\u001b[0m \u001b[0mpos_tagger\u001b[0m \u001b[0;34m=\u001b[0m \u001b[0mPOSTagger\u001b[0m\u001b[0;34m(\u001b[0m\u001b[0mptb_loader\u001b[0m\u001b[0;34m)\u001b[0m\u001b[0;34m\u001b[0m\u001b[0;34m\u001b[0m\u001b[0m\n\u001b[1;32m      3\u001b[0m \u001b[0;34m\u001b[0m\u001b[0m\n\u001b[0;32m----> 4\u001b[0;31m \u001b[0mviterbi_tag_res\u001b[0m \u001b[0;34m=\u001b[0m \u001b[0mpos_tagger\u001b[0m\u001b[0;34m.\u001b[0m\u001b[0mapply_viterbi\u001b[0m\u001b[0;34m(\u001b[0m\u001b[0;34m)\u001b[0m\u001b[0;34m\u001b[0m\u001b[0;34m\u001b[0m\u001b[0m\n\u001b[0m\u001b[1;32m      5\u001b[0m \u001b[0;34m\u001b[0m\u001b[0m\n\u001b[1;32m      6\u001b[0m \u001b[0maccuracy\u001b[0m\u001b[0;34m,\u001b[0m \u001b[0mwrong_preds\u001b[0m \u001b[0;34m=\u001b[0m \u001b[0mpos_tagger\u001b[0m\u001b[0;34m.\u001b[0m\u001b[0mevaluate\u001b[0m\u001b[0;34m(\u001b[0m\u001b[0mviterbi_tag_res\u001b[0m\u001b[0;34m)\u001b[0m\u001b[0;34m\u001b[0m\u001b[0;34m\u001b[0m\u001b[0m\n",
            "\u001b[0;32m<ipython-input-26-a9a7f44c010f>\u001b[0m in \u001b[0;36mapply_viterbi\u001b[0;34m(self, smoothing)\u001b[0m\n\u001b[1;32m    188\u001b[0m         \"\"\"\n\u001b[1;32m    189\u001b[0m         \u001b[0mself\u001b[0m\u001b[0;34m.\u001b[0m\u001b[0mset_transition_matrix\u001b[0m\u001b[0;34m(\u001b[0m\u001b[0;34m)\u001b[0m\u001b[0;34m\u001b[0m\u001b[0;34m\u001b[0m\u001b[0m\n\u001b[0;32m--> 190\u001b[0;31m         \u001b[0mself\u001b[0m\u001b[0;34m.\u001b[0m\u001b[0mset_emission_matrix\u001b[0m\u001b[0;34m(\u001b[0m\u001b[0;34m)\u001b[0m\u001b[0;34m\u001b[0m\u001b[0;34m\u001b[0m\u001b[0m\n\u001b[0m\u001b[1;32m    191\u001b[0m \u001b[0;34m\u001b[0m\u001b[0m\n\u001b[1;32m    192\u001b[0m         \u001b[0;32mif\u001b[0m \u001b[0msmoothing\u001b[0m\u001b[0;34m:\u001b[0m\u001b[0;34m\u001b[0m\u001b[0;34m\u001b[0m\u001b[0m\n",
            "\u001b[0;32m<ipython-input-26-a9a7f44c010f>\u001b[0m in \u001b[0;36mset_emission_matrix\u001b[0;34m(self, print_emission_matrix)\u001b[0m\n\u001b[1;32m     95\u001b[0m                     \u001b[0mprint\u001b[0m\u001b[0;34m(\u001b[0m\u001b[0;34mf\"round: {i}\"\u001b[0m\u001b[0;34m)\u001b[0m\u001b[0;34m\u001b[0m\u001b[0;34m\u001b[0m\u001b[0m\n\u001b[1;32m     96\u001b[0m                 \u001b[0;32mfor\u001b[0m \u001b[0mj\u001b[0m\u001b[0;34m,\u001b[0m \u001b[0mt2\u001b[0m \u001b[0;32min\u001b[0m \u001b[0menumerate\u001b[0m\u001b[0;34m(\u001b[0m\u001b[0mlist\u001b[0m\u001b[0;34m(\u001b[0m\u001b[0mself\u001b[0m\u001b[0;34m.\u001b[0m\u001b[0mtags_set\u001b[0m\u001b[0;34m)\u001b[0m\u001b[0;34m)\u001b[0m\u001b[0;34m:\u001b[0m\u001b[0;34m\u001b[0m\u001b[0;34m\u001b[0m\u001b[0m\n\u001b[0;32m---> 97\u001b[0;31m                     \u001b[0mself\u001b[0m\u001b[0;34m.\u001b[0m\u001b[0memission_matrix\u001b[0m\u001b[0;34m[\u001b[0m\u001b[0mi\u001b[0m\u001b[0;34m,\u001b[0m \u001b[0mj\u001b[0m\u001b[0;34m]\u001b[0m \u001b[0;34m=\u001b[0m \u001b[0mself\u001b[0m\u001b[0;34m.\u001b[0m\u001b[0mget_emission\u001b[0m\u001b[0;34m(\u001b[0m\u001b[0mw\u001b[0m\u001b[0;34m,\u001b[0m \u001b[0mt2\u001b[0m\u001b[0;34m)\u001b[0m\u001b[0;34m\u001b[0m\u001b[0;34m\u001b[0m\u001b[0m\n\u001b[0m\u001b[1;32m     98\u001b[0m \u001b[0;34m\u001b[0m\u001b[0m\n\u001b[1;32m     99\u001b[0m             self.emission_df = pd.DataFrame(self.emission_matrix, columns=list(self.tags_set),\n",
            "\u001b[0;32m<ipython-input-26-a9a7f44c010f>\u001b[0m in \u001b[0;36mget_emission\u001b[0;34m(self, word, tag)\u001b[0m\n\u001b[1;32m     73\u001b[0m             \u001b[0mEmission\u001b[0m \u001b[0mprobability\u001b[0m \u001b[0mof\u001b[0m \u001b[0mthe\u001b[0m \u001b[0mword\u001b[0m \u001b[0mgiven\u001b[0m \u001b[0mthe\u001b[0m \u001b[0mtag\u001b[0m\u001b[0;34m.\u001b[0m\u001b[0;34m\u001b[0m\u001b[0;34m\u001b[0m\u001b[0m\n\u001b[1;32m     74\u001b[0m         \"\"\"\n\u001b[0;32m---> 75\u001b[0;31m         \u001b[0mpair_with_tag_t\u001b[0m \u001b[0;34m=\u001b[0m \u001b[0;34m[\u001b[0m\u001b[0mpair\u001b[0m \u001b[0;32mfor\u001b[0m \u001b[0mpair\u001b[0m \u001b[0;32min\u001b[0m \u001b[0mself\u001b[0m\u001b[0;34m.\u001b[0m\u001b[0mdataset_loader\u001b[0m\u001b[0;34m.\u001b[0m\u001b[0mtrain_word_tag_pairs\u001b[0m \u001b[0;32mif\u001b[0m \u001b[0mpair\u001b[0m\u001b[0;34m[\u001b[0m\u001b[0;36m1\u001b[0m\u001b[0;34m]\u001b[0m \u001b[0;34m==\u001b[0m \u001b[0mtag\u001b[0m\u001b[0;34m]\u001b[0m\u001b[0;34m\u001b[0m\u001b[0;34m\u001b[0m\u001b[0m\n\u001b[0m\u001b[1;32m     76\u001b[0m         \u001b[0mword_with_tag_t\u001b[0m \u001b[0;34m=\u001b[0m \u001b[0;34m[\u001b[0m\u001b[0mpair\u001b[0m\u001b[0;34m[\u001b[0m\u001b[0;36m0\u001b[0m\u001b[0;34m]\u001b[0m \u001b[0;32mfor\u001b[0m \u001b[0mpair\u001b[0m \u001b[0;32min\u001b[0m \u001b[0mpair_with_tag_t\u001b[0m \u001b[0;32mif\u001b[0m \u001b[0mpair\u001b[0m\u001b[0;34m[\u001b[0m\u001b[0;36m0\u001b[0m\u001b[0;34m]\u001b[0m \u001b[0;34m==\u001b[0m \u001b[0mword\u001b[0m\u001b[0;34m[\u001b[0m\u001b[0;36m0\u001b[0m\u001b[0;34m]\u001b[0m\u001b[0;34m]\u001b[0m\u001b[0;34m\u001b[0m\u001b[0;34m\u001b[0m\u001b[0m\n\u001b[1;32m     77\u001b[0m \u001b[0;34m\u001b[0m\u001b[0m\n",
            "\u001b[0;32m<ipython-input-26-a9a7f44c010f>\u001b[0m in \u001b[0;36m<listcomp>\u001b[0;34m(.0)\u001b[0m\n\u001b[1;32m     73\u001b[0m             \u001b[0mEmission\u001b[0m \u001b[0mprobability\u001b[0m \u001b[0mof\u001b[0m \u001b[0mthe\u001b[0m \u001b[0mword\u001b[0m \u001b[0mgiven\u001b[0m \u001b[0mthe\u001b[0m \u001b[0mtag\u001b[0m\u001b[0;34m.\u001b[0m\u001b[0;34m\u001b[0m\u001b[0;34m\u001b[0m\u001b[0m\n\u001b[1;32m     74\u001b[0m         \"\"\"\n\u001b[0;32m---> 75\u001b[0;31m         \u001b[0mpair_with_tag_t\u001b[0m \u001b[0;34m=\u001b[0m \u001b[0;34m[\u001b[0m\u001b[0mpair\u001b[0m \u001b[0;32mfor\u001b[0m \u001b[0mpair\u001b[0m \u001b[0;32min\u001b[0m \u001b[0mself\u001b[0m\u001b[0;34m.\u001b[0m\u001b[0mdataset_loader\u001b[0m\u001b[0;34m.\u001b[0m\u001b[0mtrain_word_tag_pairs\u001b[0m \u001b[0;32mif\u001b[0m \u001b[0mpair\u001b[0m\u001b[0;34m[\u001b[0m\u001b[0;36m1\u001b[0m\u001b[0;34m]\u001b[0m \u001b[0;34m==\u001b[0m \u001b[0mtag\u001b[0m\u001b[0;34m]\u001b[0m\u001b[0;34m\u001b[0m\u001b[0;34m\u001b[0m\u001b[0m\n\u001b[0m\u001b[1;32m     76\u001b[0m         \u001b[0mword_with_tag_t\u001b[0m \u001b[0;34m=\u001b[0m \u001b[0;34m[\u001b[0m\u001b[0mpair\u001b[0m\u001b[0;34m[\u001b[0m\u001b[0;36m0\u001b[0m\u001b[0;34m]\u001b[0m \u001b[0;32mfor\u001b[0m \u001b[0mpair\u001b[0m \u001b[0;32min\u001b[0m \u001b[0mpair_with_tag_t\u001b[0m \u001b[0;32mif\u001b[0m \u001b[0mpair\u001b[0m\u001b[0;34m[\u001b[0m\u001b[0;36m0\u001b[0m\u001b[0;34m]\u001b[0m \u001b[0;34m==\u001b[0m \u001b[0mword\u001b[0m\u001b[0;34m[\u001b[0m\u001b[0;36m0\u001b[0m\u001b[0;34m]\u001b[0m\u001b[0;34m]\u001b[0m\u001b[0;34m\u001b[0m\u001b[0;34m\u001b[0m\u001b[0m\n\u001b[1;32m     77\u001b[0m \u001b[0;34m\u001b[0m\u001b[0m\n",
            "\u001b[0;31mKeyboardInterrupt\u001b[0m: "
          ]
        }
      ]
    },
    {
      "cell_type": "code",
      "source": [],
      "metadata": {
        "id": "UU5tSIhy_5fX"
      },
      "execution_count": null,
      "outputs": []
    }
  ],
  "metadata": {
    "kernelspec": {
      "display_name": "Python 3",
      "name": "python3"
    },
    "language_info": {
      "codemirror_mode": {
        "name": "ipython",
        "version": 2
      },
      "file_extension": ".py",
      "mimetype": "text/x-python",
      "name": "python",
      "nbconvert_exporter": "python",
      "pygments_lexer": "ipython2",
      "version": "2.7.6"
    },
    "colab": {
      "provenance": [],
      "gpuType": "T4",
      "include_colab_link": true
    },
    "accelerator": "GPU"
  },
  "nbformat": 4,
  "nbformat_minor": 0
}